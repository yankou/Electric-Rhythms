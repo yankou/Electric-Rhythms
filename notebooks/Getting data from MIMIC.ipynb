{
 "cells": [
  {
   "cell_type": "markdown",
   "metadata": {},
   "source": [
    "## To perform the analysis, we need two data resouces:\n",
    "### 1. Blood pressure, using tables chartevents, d_items and services\n",
    "### 2. Potassium level, using tables labevents, d_labitems and services"
   ]
  },
  {
   "cell_type": "code",
   "execution_count": 19,
   "metadata": {
    "collapsed": true
   },
   "outputs": [],
   "source": [
    "%matplotlib inline\n",
    "import matplotlib\n",
    "matplotlib.style.use('ggplot')\n",
    "matplotlib.rcParams['figure.figsize'] = (10.0, 8.0)\n",
    "\n",
    "import pandas as pd\n",
    "import numpy as np\n",
    "pd.options.display.max_columns = 10\n",
    "pd.options.display.max_rows = 10\n",
    "\n",
    "import warnings\n",
    "warnings.filterwarnings('ignore')\n",
    "from chatto_transform.sessions.mimic import mimic_common"
   ]
  },
  {
   "cell_type": "markdown",
   "metadata": {},
   "source": [
    "## Get blood pressure from chartevents\n",
    "### SQL query:\n",
    "\n",
    "#### 1. Get itemid from d_items for blood pressure measurements:"
   ]
  },
  {
   "cell_type": "markdown",
   "metadata": {},
   "source": [
    "SELECT *\n",
    "\tFROM MIMICIII.D_ITEMS\n",
    "\tWHERE label ILIKE 'FEM ART'\n",
    "\t    OR label ILIKE 'FEMORAL SHEATH'\n",
    "\t    OR label ILIKE 'ABP Alarm'\n",
    "\t    OR label ILIKE 'ABP'\n",
    "\t    OR label ILIKE 'Arterial BP Mean'\n",
    "\t    OR label ILIKE 'Fem sheath MAP'\n",
    "\t    OR label ILIKE 'Femoral ABP'\n",
    "\t    OR label ILIKE 'map'\n",
    "\t    OR label ILIKE 'Arterial Blood Pressure mean'\n",
    "\t    OR label ILIKE 'Non Invasive Blood Pressure mean'\n",
    "\t    OR label ILIKE 'Non-Invasive Blood Pressure Alarm - Low'\n",
    "\t    OR label ILIKE 'art mean'\n",
    "\t    OR label ILIKE 'arterial mean #2'"
   ]
  },
  {
   "cell_type": "markdown",
   "metadata": {},
   "source": [
    "#### 2. Get chartevents rows for blood presure, quick query (save to csv file)"
   ]
  },
  {
   "cell_type": "code",
   "execution_count": null,
   "metadata": {
    "collapsed": true
   },
   "outputs": [],
   "source": [
    "from sqlalchemy.sql import text\n",
    "from chatto_transform.sessions.mimic import mimic_login\n",
    "from chatto_transform.datastores.sqlalchemy_datastore import fast_postgresql_to_csv"
   ]
  },
  {
   "cell_type": "code",
   "execution_count": null,
   "metadata": {
    "collapsed": true
   },
   "outputs": [],
   "source": [
    "# SQL query, limited to \"arterial blood pressure mean\" from carevue (itemid=52)\n",
    "# To get metavision, use itemid=220052\n",
    "# To get everything related to blood pressure, change to \n",
    "# \"WHERE itemid in (220052,438,52,1321,5845,2543,2642,2647,2294,2731,6590,6605,2233752,220181)\"\n",
    "# The command below save query results into local disk\n",
    "\n",
    "query = text(\"\"\"\n",
    "SELECT * FROM\n",
    "    (SELECT * FROM mimiciii.chartevents \n",
    "    WHERE itemid=52) as C\n",
    "\n",
    "    JOIN \n",
    "        (SELECT subject_id, hadm_id, transfertime\n",
    "        FROM mimiciii.services\n",
    "            WHERE curr_service = 'CMED') AS cmed\n",
    "    ON C.subject_id = cmed.subject_id\n",
    "\"\"\").compile()\n",
    "\n",
    "engine = mimic_login.get_engine()\n",
    "query.bind = engine\n",
    "\n",
    "directory = mimic_login.get_local_storage_dir()\n",
    "fast_postgresql_to_csv(query, directory+'/blood_pressure.csv')\n"
   ]
  },
  {
   "cell_type": "markdown",
   "metadata": {},
   "source": [
    "#### 3. Get potassium level of patients admitted to CMED "
   ]
  },
  {
   "cell_type": "code",
   "execution_count": null,
   "metadata": {
    "collapsed": true
   },
   "outputs": [],
   "source": [
    "# SQL query \n",
    "# pull data from the labevents, itemid = 50971 (potassium, blood, chemistry)\n",
    "\n",
    "SELECT cmed.subject_id, cmed.hadm_id AS cmed_hadm_id, cmed.transfertime AS cmed_transfertime,\n",
    "   lab.charttime AS k_charttime, lab.value AS k_value, lab.valuenum AS k_valuenum, lab.uom AS k_uom, lab.hadm_id AS k_hadm_id, lab.itemid AS k_itemid\n",
    "FROM\n",
    "(SELECT subject_id, hadm_id, transfertime\n",
    "   FROM \n",
    "   mimiciii.services\n",
    "   WHERE curr_service = 'CMED') AS cmed\n",
    "LEFT JOIN mimiciii.labevents AS lab\n",
    "   ON lab.subject_id = cmed.subject_id\n",
    "   AND lab.itemid = 50971"
   ]
  },
  {
   "cell_type": "code",
   "execution_count": null,
   "metadata": {
    "collapsed": true
   },
   "outputs": [],
   "source": [
    "mimic_common.sql()"
   ]
  },
  {
   "cell_type": "code",
   "execution_count": null,
   "metadata": {
    "collapsed": true
   },
   "outputs": [],
   "source": [
    "# save data\n",
    "df = mimic_common.loaded_sql[0]\n",
    "df.to_csv('ktable.csv')"
   ]
  }
 ],
 "metadata": {
  "kernelspec": {
   "display_name": "Python 3",
   "language": "python",
   "name": "python3"
  },
  "language_info": {
   "codemirror_mode": {
    "name": "ipython",
    "version": 3
   },
   "file_extension": ".py",
   "mimetype": "text/x-python",
   "name": "python",
   "nbconvert_exporter": "python",
   "pygments_lexer": "ipython3",
   "version": "3.4.3"
  }
 },
 "nbformat": 4,
 "nbformat_minor": 0
}
