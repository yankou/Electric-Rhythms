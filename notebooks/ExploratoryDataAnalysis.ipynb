{
 "cells": [
  {
   "cell_type": "markdown",
   "metadata": {},
   "source": [
    "# Exploratory data analysis"
   ]
  },
  {
   "cell_type": "code",
   "execution_count": 1,
   "metadata": {
    "collapsed": true
   },
   "outputs": [],
   "source": [
    "%matplotlib inline\n",
    "import matplotlib\n",
    "matplotlib.style.use('ggplot')\n",
    "matplotlib.rcParams['figure.figsize'] = (10.0, 8.0)\n",
    "\n",
    "import pandas as pd\n",
    "pd.options.display.max_columns = 10\n",
    "pd.options.display.max_rows = 10\n",
    "\n",
    "import warnings\n",
    "warnings.filterwarnings('ignore')"
   ]
  },
  {
   "cell_type": "code",
   "execution_count": 2,
   "metadata": {
    "collapsed": true
   },
   "outputs": [],
   "source": [
    "from chatto_transform.sessions.mimic import mimic_common"
   ]
  },
  {
   "cell_type": "markdown",
   "metadata": {},
   "source": [
    "### You can also enter arbitrary SQL queries:"
   ]
  },
  {
   "cell_type": "markdown",
   "metadata": {},
   "source": [
    "### Type in the following SQL query in the text area that appears:\n",
    "\n",
    "````\n",
    "SELECT * FROM MIMICIII.ADMISSIONS LIMIT 3\n",
    "````\n",
    "\n",
    "### Then click *Execute*."
   ]
  },
  {
   "cell_type": "markdown",
   "metadata": {},
   "source": [
    "Pull out all heart patients:\n",
    "<pre>\n",
    "SELECT subject_id, hadm_id, transfertime\n",
    "FROM MIMICIII.SERVICES\n",
    "WHERE curr_service = 'CMED'\n",
    "</pre>\n",
    "\n",
    "Find item IDs for potassium labs:\n",
    "<pre>\n",
    "SELECT *\n",
    "FROM MIMICIII.D_LABITEMS\n",
    "WHERE label ILIKE '%potassium%'\n",
    "</pre>\n",
    "\n",
    "Pull all potassium labs:\n",
    "<pre>\n",
    "SELECT * \n",
    "FROM MIMICIII.LABEVENTS\n",
    "WHERE itemid = 50971\n",
    "LIMIT 10\n",
    "<pre>"
   ]
  },
  {
   "cell_type": "code",
   "execution_count": 3,
   "metadata": {
    "collapsed": false
   },
   "outputs": [
    {
     "name": "stdout",
     "output_type": "stream",
     "text": [
      "Loaded SELECT * \n",
      "FROM MIMICIII.LABEVENTS\n",
      "WHERE itemid = 50971\n",
      "LIMIT 10\n",
      " and stored in loaded_sql[0]\n"
     ]
    }
   ],
   "source": [
    "mimic_common.sql()"
   ]
  },
  {
   "cell_type": "markdown",
   "metadata": {},
   "source": [
    "### And access the results like this:"
   ]
  },
  {
   "cell_type": "markdown",
   "metadata": {},
   "source": [
    "Find K+ labs for cardiac medicine patients:\n",
    "* find cmed pts\n",
    "* join with K+ labs\n",
    "\n",
    "<pre>\n",
    "SELECT cmed.subject_id, cmed.hadm_id AS cmed_hadm_id, cmed.transfertime AS cmed_transfertime,\n",
    "    lab.charttime AS k_charttime, lab.value AS k_value, lab.valuenum AS k_valuenum, lab.uom AS k_uom, lab.hadm_id AS k_hadm_id, lab.itemid AS k_itemid\n",
    "FROM\n",
    "(SELECT subject_id, hadm_id, transfertime\n",
    "    FROM \n",
    "    mimiciii.services\n",
    "    WHERE curr_service = 'CMED') AS cmed\n",
    "LEFT JOIN mimiciii.labevents AS lab\n",
    "    ON lab.subject_id = cmed.subject_id\n",
    "    AND lab.itemid = 50971\n",
    "</pre>"
   ]
  },
  {
   "cell_type": "code",
   "execution_count": 4,
   "metadata": {
    "collapsed": false
   },
   "outputs": [
    {
     "data": {
      "text/html": [
       "<div>\n",
       "<table border=\"1\" class=\"dataframe\">\n",
       "  <thead>\n",
       "    <tr style=\"text-align: right;\">\n",
       "      <th></th>\n",
       "      <th>row_id</th>\n",
       "      <th>subject_id</th>\n",
       "      <th>hadm_id</th>\n",
       "      <th>itemid</th>\n",
       "      <th>charttime</th>\n",
       "      <th>value</th>\n",
       "      <th>valuenum</th>\n",
       "      <th>uom</th>\n",
       "      <th>flag</th>\n",
       "    </tr>\n",
       "  </thead>\n",
       "  <tbody>\n",
       "    <tr>\n",
       "      <th>0</th>\n",
       "      <td>1740</td>\n",
       "      <td>3</td>\n",
       "      <td>NaN</td>\n",
       "      <td>50971</td>\n",
       "      <td>2102-01-28 05:40:00</td>\n",
       "      <td>4.5</td>\n",
       "      <td>4.5</td>\n",
       "      <td>mEq/L</td>\n",
       "      <td>NaN</td>\n",
       "    </tr>\n",
       "    <tr>\n",
       "      <th>1</th>\n",
       "      <td>1753</td>\n",
       "      <td>3</td>\n",
       "      <td>NaN</td>\n",
       "      <td>50971</td>\n",
       "      <td>2102-01-29 05:50:00</td>\n",
       "      <td>4.6</td>\n",
       "      <td>4.6</td>\n",
       "      <td>mEq/L</td>\n",
       "      <td>NaN</td>\n",
       "    </tr>\n",
       "    <tr>\n",
       "      <th>2</th>\n",
       "      <td>1780</td>\n",
       "      <td>4</td>\n",
       "      <td>NaN</td>\n",
       "      <td>50971</td>\n",
       "      <td>2191-03-15 14:12:00</td>\n",
       "      <td>3.1</td>\n",
       "      <td>3.1</td>\n",
       "      <td>mEq/L</td>\n",
       "      <td>abnormal</td>\n",
       "    </tr>\n",
       "    <tr>\n",
       "      <th>3</th>\n",
       "      <td>1195</td>\n",
       "      <td>3</td>\n",
       "      <td>145834</td>\n",
       "      <td>50971</td>\n",
       "      <td>2101-10-24 04:15:00</td>\n",
       "      <td>3.5</td>\n",
       "      <td>3.5</td>\n",
       "      <td>mEq/L</td>\n",
       "      <td>NaN</td>\n",
       "    </tr>\n",
       "    <tr>\n",
       "      <th>4</th>\n",
       "      <td>1285</td>\n",
       "      <td>3</td>\n",
       "      <td>145834</td>\n",
       "      <td>50971</td>\n",
       "      <td>2101-10-24 17:30:00</td>\n",
       "      <td>4.4</td>\n",
       "      <td>4.4</td>\n",
       "      <td>mEq/L</td>\n",
       "      <td>NaN</td>\n",
       "    </tr>\n",
       "    <tr>\n",
       "      <th>5</th>\n",
       "      <td>1294</td>\n",
       "      <td>3</td>\n",
       "      <td>145834</td>\n",
       "      <td>50971</td>\n",
       "      <td>2101-10-25 04:00:00</td>\n",
       "      <td>3.9</td>\n",
       "      <td>3.9</td>\n",
       "      <td>mEq/L</td>\n",
       "      <td>NaN</td>\n",
       "    </tr>\n",
       "    <tr>\n",
       "      <th>6</th>\n",
       "      <td>1313</td>\n",
       "      <td>3</td>\n",
       "      <td>145834</td>\n",
       "      <td>50971</td>\n",
       "      <td>2101-10-25 18:52:00</td>\n",
       "      <td>3.8</td>\n",
       "      <td>3.8</td>\n",
       "      <td>mEq/L</td>\n",
       "      <td>NaN</td>\n",
       "    </tr>\n",
       "    <tr>\n",
       "      <th>7</th>\n",
       "      <td>1330</td>\n",
       "      <td>3</td>\n",
       "      <td>145834</td>\n",
       "      <td>50971</td>\n",
       "      <td>2101-10-26 04:00:00</td>\n",
       "      <td>3.4</td>\n",
       "      <td>3.4</td>\n",
       "      <td>mEq/L</td>\n",
       "      <td>abnormal</td>\n",
       "    </tr>\n",
       "    <tr>\n",
       "      <th>8</th>\n",
       "      <td>1380</td>\n",
       "      <td>3</td>\n",
       "      <td>145834</td>\n",
       "      <td>50971</td>\n",
       "      <td>2101-10-27 08:56:00</td>\n",
       "      <td>4.4</td>\n",
       "      <td>4.4</td>\n",
       "      <td>mEq/L</td>\n",
       "      <td>NaN</td>\n",
       "    </tr>\n",
       "    <tr>\n",
       "      <th>9</th>\n",
       "      <td>1407</td>\n",
       "      <td>3</td>\n",
       "      <td>145834</td>\n",
       "      <td>50971</td>\n",
       "      <td>2101-10-28 06:10:00</td>\n",
       "      <td>3.9</td>\n",
       "      <td>3.9</td>\n",
       "      <td>mEq/L</td>\n",
       "      <td>NaN</td>\n",
       "    </tr>\n",
       "  </tbody>\n",
       "</table>\n",
       "</div>"
      ],
      "text/plain": [
       "   row_id  subject_id  hadm_id  itemid            charttime  value  valuenum  \\\n",
       "0    1740           3      NaN   50971  2102-01-28 05:40:00    4.5       4.5   \n",
       "1    1753           3      NaN   50971  2102-01-29 05:50:00    4.6       4.6   \n",
       "2    1780           4      NaN   50971  2191-03-15 14:12:00    3.1       3.1   \n",
       "3    1195           3   145834   50971  2101-10-24 04:15:00    3.5       3.5   \n",
       "4    1285           3   145834   50971  2101-10-24 17:30:00    4.4       4.4   \n",
       "5    1294           3   145834   50971  2101-10-25 04:00:00    3.9       3.9   \n",
       "6    1313           3   145834   50971  2101-10-25 18:52:00    3.8       3.8   \n",
       "7    1330           3   145834   50971  2101-10-26 04:00:00    3.4       3.4   \n",
       "8    1380           3   145834   50971  2101-10-27 08:56:00    4.4       4.4   \n",
       "9    1407           3   145834   50971  2101-10-28 06:10:00    3.9       3.9   \n",
       "\n",
       "     uom      flag  \n",
       "0  mEq/L       NaN  \n",
       "1  mEq/L       NaN  \n",
       "2  mEq/L  abnormal  \n",
       "3  mEq/L       NaN  \n",
       "4  mEq/L       NaN  \n",
       "5  mEq/L       NaN  \n",
       "6  mEq/L       NaN  \n",
       "7  mEq/L  abnormal  \n",
       "8  mEq/L       NaN  \n",
       "9  mEq/L       NaN  "
      ]
     },
     "execution_count": 4,
     "metadata": {},
     "output_type": "execute_result"
    }
   ],
   "source": [
    "mimic_common.loaded_sql[0]"
   ]
  },
  {
   "cell_type": "code",
   "execution_count": 6,
   "metadata": {
    "collapsed": false
   },
   "outputs": [],
   "source": [
    "cmed_pts = mimic_common.loaded_sql[1]"
   ]
  },
  {
   "cell_type": "code",
   "execution_count": 7,
   "metadata": {
    "collapsed": false
   },
   "outputs": [
    {
     "data": {
      "text/html": [
       "<div>\n",
       "<table border=\"1\" class=\"dataframe\">\n",
       "  <thead>\n",
       "    <tr style=\"text-align: right;\">\n",
       "      <th></th>\n",
       "      <th>subject_id</th>\n",
       "      <th>hadm_id</th>\n",
       "      <th>transfertime</th>\n",
       "    </tr>\n",
       "  </thead>\n",
       "  <tbody>\n",
       "    <tr>\n",
       "      <th>0</th>\n",
       "      <td>154</td>\n",
       "      <td>102354</td>\n",
       "      <td>2127-12-23 18:47:00</td>\n",
       "    </tr>\n",
       "    <tr>\n",
       "      <th>1</th>\n",
       "      <td>154</td>\n",
       "      <td>102354</td>\n",
       "      <td>2127-12-24 00:47:40</td>\n",
       "    </tr>\n",
       "    <tr>\n",
       "      <th>2</th>\n",
       "      <td>160</td>\n",
       "      <td>161672</td>\n",
       "      <td>2174-11-06 08:38:58</td>\n",
       "    </tr>\n",
       "    <tr>\n",
       "      <th>3</th>\n",
       "      <td>163</td>\n",
       "      <td>138528</td>\n",
       "      <td>2146-06-21 17:42:45</td>\n",
       "    </tr>\n",
       "    <tr>\n",
       "      <th>4</th>\n",
       "      <td>164</td>\n",
       "      <td>182743</td>\n",
       "      <td>2116-12-28 15:34:05</td>\n",
       "    </tr>\n",
       "    <tr>\n",
       "      <th>...</th>\n",
       "      <td>...</td>\n",
       "      <td>...</td>\n",
       "      <td>...</td>\n",
       "    </tr>\n",
       "    <tr>\n",
       "      <th>9130</th>\n",
       "      <td>92287</td>\n",
       "      <td>133462</td>\n",
       "      <td>2171-02-16 18:12:20</td>\n",
       "    </tr>\n",
       "    <tr>\n",
       "      <th>9131</th>\n",
       "      <td>92292</td>\n",
       "      <td>153237</td>\n",
       "      <td>2163-12-28 08:00:16</td>\n",
       "    </tr>\n",
       "    <tr>\n",
       "      <th>9132</th>\n",
       "      <td>92295</td>\n",
       "      <td>111545</td>\n",
       "      <td>2181-06-08 20:22:24</td>\n",
       "    </tr>\n",
       "    <tr>\n",
       "      <th>9133</th>\n",
       "      <td>92316</td>\n",
       "      <td>158581</td>\n",
       "      <td>2187-05-05 18:02:51</td>\n",
       "    </tr>\n",
       "    <tr>\n",
       "      <th>9134</th>\n",
       "      <td>97351</td>\n",
       "      <td>158101</td>\n",
       "      <td>2117-01-16 16:13:38</td>\n",
       "    </tr>\n",
       "  </tbody>\n",
       "</table>\n",
       "<p>9135 rows × 3 columns</p>\n",
       "</div>"
      ],
      "text/plain": [
       "      subject_id  hadm_id         transfertime\n",
       "0            154   102354  2127-12-23 18:47:00\n",
       "1            154   102354  2127-12-24 00:47:40\n",
       "2            160   161672  2174-11-06 08:38:58\n",
       "3            163   138528  2146-06-21 17:42:45\n",
       "4            164   182743  2116-12-28 15:34:05\n",
       "...          ...      ...                  ...\n",
       "9130       92287   133462  2171-02-16 18:12:20\n",
       "9131       92292   153237  2163-12-28 08:00:16\n",
       "9132       92295   111545  2181-06-08 20:22:24\n",
       "9133       92316   158581  2187-05-05 18:02:51\n",
       "9134       97351   158101  2117-01-16 16:13:38\n",
       "\n",
       "[9135 rows x 3 columns]"
      ]
     },
     "execution_count": 7,
     "metadata": {},
     "output_type": "execute_result"
    }
   ],
   "source": [
    "cmed_pts"
   ]
  },
  {
   "cell_type": "code",
   "execution_count": 17,
   "metadata": {
    "collapsed": false
   },
   "outputs": [
    {
     "data": {
      "text/plain": [
       "7949"
      ]
     },
     "execution_count": 17,
     "metadata": {},
     "output_type": "execute_result"
    }
   ],
   "source": [
    "# Number of unique patients on CMED service\n",
    "cmed_pts.subject_id.nunique()"
   ]
  },
  {
   "cell_type": "code",
   "execution_count": 21,
   "metadata": {
    "collapsed": false
   },
   "outputs": [
    {
     "data": {
      "text/html": [
       "<div>\n",
       "<table border=\"1\" class=\"dataframe\">\n",
       "  <thead>\n",
       "    <tr style=\"text-align: right;\">\n",
       "      <th></th>\n",
       "      <th>row_id</th>\n",
       "      <th>itemid</th>\n",
       "      <th>label</th>\n",
       "      <th>fluid</th>\n",
       "      <th>category</th>\n",
       "      <th>loinc_code</th>\n",
       "    </tr>\n",
       "  </thead>\n",
       "  <tbody>\n",
       "    <tr>\n",
       "      <th>0</th>\n",
       "      <td>264</td>\n",
       "      <td>51064</td>\n",
       "      <td>POTASSIUM, STOOL</td>\n",
       "      <td>STOOL</td>\n",
       "      <td>CHEMISTRY</td>\n",
       "      <td>15202-5</td>\n",
       "    </tr>\n",
       "    <tr>\n",
       "      <th>1</th>\n",
       "      <td>297</td>\n",
       "      <td>51097</td>\n",
       "      <td>POTASSIUM, URINE</td>\n",
       "      <td>URINE</td>\n",
       "      <td>CHEMISTRY</td>\n",
       "      <td>2828-2</td>\n",
       "    </tr>\n",
       "    <tr>\n",
       "      <th>2</th>\n",
       "      <td>23</td>\n",
       "      <td>50822</td>\n",
       "      <td>POTASSIUM, WHOLE BLOOD</td>\n",
       "      <td>BLOOD</td>\n",
       "      <td>BLOOD GAS</td>\n",
       "      <td>6298-4</td>\n",
       "    </tr>\n",
       "    <tr>\n",
       "      <th>3</th>\n",
       "      <td>34</td>\n",
       "      <td>50833</td>\n",
       "      <td>POTASSIUM</td>\n",
       "      <td>OTHER BODY FLUID</td>\n",
       "      <td>BLOOD GAS</td>\n",
       "      <td>2821-7</td>\n",
       "    </tr>\n",
       "    <tr>\n",
       "      <th>4</th>\n",
       "      <td>48</td>\n",
       "      <td>50847</td>\n",
       "      <td>POTASSIUM, ASCITES</td>\n",
       "      <td>ASCITES</td>\n",
       "      <td>CHEMISTRY</td>\n",
       "      <td>49789-1</td>\n",
       "    </tr>\n",
       "    <tr>\n",
       "      <th>5</th>\n",
       "      <td>172</td>\n",
       "      <td>50971</td>\n",
       "      <td>POTASSIUM</td>\n",
       "      <td>BLOOD</td>\n",
       "      <td>CHEMISTRY</td>\n",
       "      <td>2823-3</td>\n",
       "    </tr>\n",
       "    <tr>\n",
       "      <th>6</th>\n",
       "      <td>241</td>\n",
       "      <td>51041</td>\n",
       "      <td>POTASSIUM, BODY FLUID</td>\n",
       "      <td>OTHER BODY FLUID</td>\n",
       "      <td>CHEMISTRY</td>\n",
       "      <td>2821-7</td>\n",
       "    </tr>\n",
       "    <tr>\n",
       "      <th>7</th>\n",
       "      <td>257</td>\n",
       "      <td>51057</td>\n",
       "      <td>POTASSIUM, PLEURAL</td>\n",
       "      <td>PLEURAL</td>\n",
       "      <td>CHEMISTRY</td>\n",
       "      <td>NaN</td>\n",
       "    </tr>\n",
       "  </tbody>\n",
       "</table>\n",
       "</div>"
      ],
      "text/plain": [
       "   row_id  itemid                   label             fluid   category  \\\n",
       "0     264   51064        POTASSIUM, STOOL             STOOL  CHEMISTRY   \n",
       "1     297   51097        POTASSIUM, URINE             URINE  CHEMISTRY   \n",
       "2      23   50822  POTASSIUM, WHOLE BLOOD             BLOOD  BLOOD GAS   \n",
       "3      34   50833               POTASSIUM  OTHER BODY FLUID  BLOOD GAS   \n",
       "4      48   50847      POTASSIUM, ASCITES           ASCITES  CHEMISTRY   \n",
       "5     172   50971               POTASSIUM             BLOOD  CHEMISTRY   \n",
       "6     241   51041   POTASSIUM, BODY FLUID  OTHER BODY FLUID  CHEMISTRY   \n",
       "7     257   51057      POTASSIUM, PLEURAL           PLEURAL  CHEMISTRY   \n",
       "\n",
       "  loinc_code  \n",
       "0    15202-5  \n",
       "1     2828-2  \n",
       "2     6298-4  \n",
       "3     2821-7  \n",
       "4    49789-1  \n",
       "5     2823-3  \n",
       "6     2821-7  \n",
       "7        NaN  "
      ]
     },
     "execution_count": 21,
     "metadata": {},
     "output_type": "execute_result"
    }
   ],
   "source": [
    "# Potassium lab codes\n",
    "potassium_labs = mimic_common.loaded_sql[6]\n",
    "potassium_labs"
   ]
  },
  {
   "cell_type": "markdown",
   "metadata": {},
   "source": [
    "We want itemid = 50971 (blood chemistry)."
   ]
  },
  {
   "cell_type": "markdown",
   "metadata": {
    "collapsed": true
   },
   "source": [
    "### Let's get into doing stuff with code. You can load tables and queries without using the visual widgets above:"
   ]
  },
  {
   "cell_type": "code",
   "execution_count": null,
   "metadata": {
    "collapsed": true
   },
   "outputs": [],
   "source": [
    "from chatto_transform.schema.mimic import mimic_schema"
   ]
  },
  {
   "cell_type": "code",
   "execution_count": null,
   "metadata": {
    "collapsed": false
   },
   "outputs": [],
   "source": [
    "df = mimic_common.load_table(mimic_schema.admissions_schema)"
   ]
  },
  {
   "cell_type": "code",
   "execution_count": null,
   "metadata": {
    "collapsed": false
   },
   "outputs": [],
   "source": [
    "df"
   ]
  },
  {
   "cell_type": "markdown",
   "metadata": {},
   "source": [
    "### We just loaded the `admissions` table.\n",
    "\n",
    "### We did this by called `mimic_common.load_table`, and passing it a `schema` object.\n",
    "\n",
    "### Let's take a closer look at the `schema` we used, `mimic_schema.admissions_schema`:"
   ]
  },
  {
   "cell_type": "code",
   "execution_count": null,
   "metadata": {
    "collapsed": false
   },
   "outputs": [],
   "source": [
    "mimic_schema.admissions_schema"
   ]
  },
  {
   "cell_type": "markdown",
   "metadata": {},
   "source": [
    "### Here we see information about the `admissions` table. We see the names of types of the different columns.\n",
    "\n",
    "### We can pass any of the schema objects in `mimic_schema` to `load_table`, and the table will be loaded. Feel free to take a look at the different schemas:"
   ]
  },
  {
   "cell_type": "code",
   "execution_count": null,
   "metadata": {
    "collapsed": false
   },
   "outputs": [],
   "source": [
    "dir(mimic_schema)"
   ]
  },
  {
   "cell_type": "markdown",
   "metadata": {},
   "source": [
    "### Say we want to download the table we just loaded. We can do it like this:"
   ]
  },
  {
   "cell_type": "code",
   "execution_count": null,
   "metadata": {
    "collapsed": false
   },
   "outputs": [],
   "source": [
    "mimic_common.df_to_csv('admissions.csv', df)"
   ]
  },
  {
   "cell_type": "markdown",
   "metadata": {
    "collapsed": true
   },
   "source": [
    "# First pass: Select potassium labs  "
   ]
  },
  {
   "cell_type": "code",
   "execution_count": null,
   "metadata": {
    "collapsed": true
   },
   "outputs": [],
   "source": [
    "from chatto_transform.sessions.mimic import cohorts"
   ]
  },
  {
   "cell_type": "code",
   "execution_count": null,
   "metadata": {
    "collapsed": true
   },
   "outputs": [],
   "source": [
    "my_cohort = cohorts.Cohort()"
   ]
  },
  {
   "cell_type": "code",
   "execution_count": null,
   "metadata": {
    "collapsed": true
   },
   "outputs": [],
   "source": [
    "my_cohort.filter_labevents()"
   ]
  },
  {
   "cell_type": "code",
   "execution_count": null,
   "metadata": {
    "collapsed": false
   },
   "outputs": [],
   "source": [
    "my_cohort.summary_fields"
   ]
  },
  {
   "cell_type": "code",
   "execution_count": null,
   "metadata": {
    "collapsed": true
   },
   "outputs": [],
   "source": [
    "my_cohort.summary()"
   ]
  },
  {
   "cell_type": "code",
   "execution_count": null,
   "metadata": {
    "collapsed": true
   },
   "outputs": [],
   "source": [
    "x = 3"
   ]
  },
  {
   "cell_type": "code",
   "execution_count": null,
   "metadata": {
    "collapsed": true
   },
   "outputs": [],
   "source": []
  }
 ],
 "metadata": {
  "kernelspec": {
   "display_name": "Python 3",
   "language": "python",
   "name": "python3"
  },
  "language_info": {
   "codemirror_mode": {
    "name": "ipython",
    "version": 3
   },
   "file_extension": ".py",
   "mimetype": "text/x-python",
   "name": "python",
   "nbconvert_exporter": "python",
   "pygments_lexer": "ipython3",
   "version": "3.4.3"
  }
 },
 "nbformat": 4,
 "nbformat_minor": 0
}
